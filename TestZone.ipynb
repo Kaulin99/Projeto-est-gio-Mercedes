{
 "cells": [
  {
   "cell_type": "code",
   "execution_count": 6,
   "id": "d5b47986-4572-42bb-bfe2-3120d1216329",
   "metadata": {},
   "outputs": [],
   "source": [
    "import pandas as pd\n",
    "import matplotlib.pyplot as plt"
   ]
  },
  {
   "cell_type": "code",
   "execution_count": 33,
   "id": "3cb02338",
   "metadata": {},
   "outputs": [],
   "source": [
    "# Carregue o arquivo Parquet\n",
    "file_path = \"C:/Users/kauea/OneDrive/Área de Trabalho/ERROR 404/Faculdade/Estágio/Case/Case/veiculos.parquet\"\n",
    "df = pd.read_parquet(file_path)"
   ]
  },
  {
   "cell_type": "code",
   "execution_count": 54,
   "id": "84e65af6",
   "metadata": {},
   "outputs": [
    {
     "name": "stdout",
     "output_type": "stream",
     "text": [
      "     COD             PAIS   MERCADO\n",
      "0    575   UNIAOSOVIETICA  Overseas\n",
      "1    576  REPUBLICATCHECA  Overseas\n",
      "2    577          ESPANHA  Overseas\n",
      "3    579   REPUBLICACHECA  Overseas\n",
      "4    580  REPUBL.ESLOVACA  Overseas\n",
      "..   ...              ...       ...\n",
      "240  565          MADEIRA  Overseas\n",
      "241  567          ROMENIA  Overseas\n",
      "242  569           SUEÇIA  Overseas\n",
      "243  990          LETONIA  Overseas\n",
      "244  BRA           BRASIL    Brasil\n",
      "\n",
      "[245 rows x 3 columns]\n",
      "  Linha CodPais           Denominação        varNED         NP   DTFLI  \\\n",
      "0     J     BRA  O-500U 1826/59 EURO5  QVV18260809B  201952986  190109   \n",
      "1     J     BRA  O-500U 1826/59 EURO5  QVV18260809B  201952994  190110   \n",
      "2     J     BRA  O-500U 1826/59 EURO5  QVV18260809B  201953001  190110   \n",
      "3     J     BRA  O-500U 1826/59 EURO5  QVV18260809B  201953010  190110   \n",
      "4     J     BRA  O-500U 1826/59 EURO5  QVV18260809B  201953028  190110   \n",
      "\n",
      "  DTLCO_1a   DTLCO   DTFAT  COD    PAIS MERCADO  \n",
      "0   150119  190115  190222  BRA  BRASIL  Brasil  \n",
      "1   110119  190111  190222  BRA  BRASIL  Brasil  \n",
      "2   100119  190110  190222  BRA  BRASIL  Brasil  \n",
      "3   100119  190110  190329  BRA  BRASIL  Brasil  \n",
      "4   120119  190112  190329  BRA  BRASIL  Brasil  \n"
     ]
    }
   ],
   "source": [
    "# Exemplo de combinar bases\n",
    "df2 = pd.read_parquet(\"C:/Users/kauea/OneDrive/Área de Trabalho/ERROR 404/Faculdade/Estágio/Case/Case/cod_pais.parquet\")\n",
    "df2Pais = df2[df2[\"PAIS\"] == \"BRASIL\"]\n",
    "print(df2)\n",
    "\n",
    "df_merged = pd.merge(df, df2, left_on='CodPais', right_on='COD', how='left')\n",
    "print(df_merged.head())"
   ]
  },
  {
   "cell_type": "code",
   "execution_count": 25,
   "id": "0a75c0d7",
   "metadata": {},
   "outputs": [
    {
     "name": "stdout",
     "output_type": "stream",
     "text": [
      "  Linha CodPais           Denominação        varNED         NP   DTFLI  \\\n",
      "0     J     BRA  O-500U 1826/59 EURO5  QVV18260809B  201952986  190109   \n",
      "1     J     BRA  O-500U 1826/59 EURO5  QVV18260809B  201952994  190110   \n",
      "2     J     BRA  O-500U 1826/59 EURO5  QVV18260809B  201953001  190110   \n",
      "3     J     BRA  O-500U 1826/59 EURO5  QVV18260809B  201953010  190110   \n",
      "4     J     BRA  O-500U 1826/59 EURO5  QVV18260809B  201953028  190110   \n",
      "\n",
      "  DTLCO_1a DTLCO DTFAT  \n",
      "0   150119   NaT   NaT  \n",
      "1   110119   NaT   NaT  \n",
      "2   100119   NaT   NaT  \n",
      "3   100119   NaT   NaT  \n",
      "4   120119   NaT   NaT  \n"
     ]
    }
   ],
   "source": [
    "# Visualize as primeiras linhas\n",
    "print(df.head())"
   ]
  },
  {
   "cell_type": "code",
   "execution_count": 4,
   "id": "b36461cc",
   "metadata": {},
   "outputs": [
    {
     "name": "stdout",
     "output_type": "stream",
     "text": [
      "<class 'pandas.core.frame.DataFrame'>\n",
      "RangeIndex: 17233 entries, 0 to 17232\n",
      "Data columns (total 9 columns):\n",
      " #   Column       Non-Null Count  Dtype \n",
      "---  ------       --------------  ----- \n",
      " 0   Linha        17233 non-null  object\n",
      " 1   CodPais      17233 non-null  object\n",
      " 2   Denominação  17233 non-null  object\n",
      " 3   varNED       17233 non-null  object\n",
      " 4   NP           17233 non-null  object\n",
      " 5   DTFLI        17233 non-null  object\n",
      " 6   DTLCO_1a     16397 non-null  object\n",
      " 7   DTLCO        17233 non-null  object\n",
      " 8   DTFAT        17233 non-null  object\n",
      "dtypes: object(9)\n",
      "memory usage: 1.2+ MB\n",
      "None\n"
     ]
    }
   ],
   "source": [
    "#Verificar colunas e tipos\n",
    "print(df.info())"
   ]
  },
  {
   "cell_type": "code",
   "execution_count": 6,
   "id": "e7a5898b",
   "metadata": {},
   "outputs": [
    {
     "name": "stdout",
     "output_type": "stream",
     "text": [
      "        Linha CodPais       Denominação        varNED         NP   DTFLI  \\\n",
      "count   17233   17233             17233         17233      17233   17233   \n",
      "unique      2      26                58           394      17233     292   \n",
      "top         J     BRA  OF-1721/59 EURO5  QVV17210737B  201952986  000000   \n",
      "freq    13719   13948              5178          1811          1     826   \n",
      "\n",
      "       DTLCO_1a   DTLCO   DTFAT  \n",
      "count     16397   17233   17233  \n",
      "unique      330     331     315  \n",
      "top      051219  000000  000000  \n",
      "freq        108    1418    2353  \n"
     ]
    }
   ],
   "source": [
    "#Verificar estatísticas básicas\n",
    "print(df.describe())"
   ]
  },
  {
   "cell_type": "code",
   "execution_count": 7,
   "id": "d0697ae0",
   "metadata": {},
   "outputs": [
    {
     "name": "stdout",
     "output_type": "stream",
     "text": [
      "      Linha CodPais           Denominação        varNED         NP   DTFLI  \\\n",
      "0         J     BRA  O-500U 1826/59 EURO5  QVV18260809B  201952986  190109   \n",
      "1         J     BRA  O-500U 1826/59 EURO5  QVV18260809B  201952994  190110   \n",
      "2         J     BRA  O-500U 1826/59 EURO5  QVV18260809B  201953001  190110   \n",
      "3         J     BRA  O-500U 1826/59 EURO5  QVV18260809B  201953010  190110   \n",
      "4         J     BRA  O-500U 1826/59 EURO5  QVV18260809B  201953028  190110   \n",
      "...     ...     ...                   ...           ...        ...     ...   \n",
      "17208     L     BRA  O-500U 1826/59 EURO5  QVV18260942B  202247445  000000   \n",
      "17217     L     771  O-500U 1826/59 EURO5  QVV18260914B  202248280  000000   \n",
      "17222     L     771  O-500U 1826/59 EURO5  QVV18260914B  202248549  000000   \n",
      "17227     L     771  O-500U 1826/59 EURO5  QVV18260914B  202248794  000000   \n",
      "17232     L     771  O-500U 1826/59 EURO5  QVV18260914B  202248930  000000   \n",
      "\n",
      "      DTLCO_1a   DTLCO   DTFAT  \n",
      "0       150119  190115  190222  \n",
      "1       110119  190111  190222  \n",
      "2       100119  190110  190222  \n",
      "3       100119  190110  190329  \n",
      "4       120119  190112  190329  \n",
      "...        ...     ...     ...  \n",
      "17208     None  000000  000000  \n",
      "17217     None  000000  000000  \n",
      "17222     None  000000  000000  \n",
      "17227     None  000000  000000  \n",
      "17232     None  000000  000000  \n",
      "\n",
      "[1077 rows x 9 columns]\n"
     ]
    }
   ],
   "source": [
    "#Filtrar apenas veículos de um certo tipo\n",
    "filtered_df = df[df[\"Denominação\"] == \"O-500U 1826/59 EURO5\"]\n",
    "print(filtered_df)"
   ]
  },
  {
   "cell_type": "code",
   "execution_count": 37,
   "id": "5bb5ef40",
   "metadata": {},
   "outputs": [
    {
     "name": "stdout",
     "output_type": "stream",
     "text": [
      "0        150119\n",
      "1        110119\n",
      "2        100119\n",
      "3        100119\n",
      "4        120119\n",
      "          ...  \n",
      "17228    00None\n",
      "17229    00None\n",
      "17230    00None\n",
      "17231    00None\n",
      "17232    00None\n",
      "Name: DTLCO_1a, Length: 17233, dtype: object\n"
     ]
    }
   ],
   "source": [
    "#Criar uma coluna calculada (exemplo)\n",
    "#Garantir que a coluna 'data' é string e tem 6 caracteres\n",
    "df['DTLCO_1a'] = df['DTLCO_1a'].astype(str).str.zfill(6)\n",
    "\n",
    "print(df['DTLCO_1a'])"
   ]
  },
  {
   "cell_type": "code",
   "execution_count": 40,
   "id": "f1a05065",
   "metadata": {},
   "outputs": [
    {
     "data": {
      "image/png": "[encoded data removed]",
      "text/plain": [
       "<Figure size 640x480 with 1 Axes>"
      ]
     },
     "metadata": {},
     "output_type": "display_data"
    }
   ],
   "source": [
    "#Cria uma tabela genérica\n",
    "df[\"DTFAT\"].value_counts().plot(kind=\"line\")\n",
    "plt.show()"
   ]
  }
 ],
 "metadata": {
  "kernelspec": {
   "display_name": "base",
   "language": "python",
   "name": "python3"
  },
  "language_info": {
   "codemirror_mode": {
    "name": "ipython",
    "version": 3
   },
   "file_extension": ".py",
   "mimetype": "text/x-python",
   "name": "python",
   "nbconvert_exporter": "python",
   "pygments_lexer": "ipython3",
   "version": "3.11.4"
  }
 },
 "nbformat": 4,
 "nbformat_minor": 5
}
