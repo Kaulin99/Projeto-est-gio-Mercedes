{
 "cells": [
  {
   "cell_type": "code",
   "execution_count": null,
   "id": "d5b47986-4572-42bb-bfe2-3120d1216329",
   "metadata": {},
   "outputs": [],
   "source": [
    "import pandas as pd\n",
    "import matplotlib.pyplot as plt\n",
    "import openpyxl as op"
   ]
  },
  {
   "cell_type": "code",
   "execution_count": 48,
   "id": "3cb02338",
   "metadata": {},
   "outputs": [
    {
     "name": "stdout",
     "output_type": "stream",
     "text": [
      "  Linha CodPais           Denominação        varNED         NP   DTFLI  \\\n",
      "0     J     BRA  O-500U 1826/59 EURO5  QVV18260809B  201952986  190109   \n",
      "1     J     BRA  O-500U 1826/59 EURO5  QVV18260809B  201952994  190110   \n",
      "2     J     BRA  O-500U 1826/59 EURO5  QVV18260809B  201953001  190110   \n",
      "3     J     BRA  O-500U 1826/59 EURO5  QVV18260809B  201953010  190110   \n",
      "4     J     BRA  O-500U 1826/59 EURO5  QVV18260809B  201953028  190110   \n",
      "\n",
      "  DTLCO_1a   DTLCO   DTFAT  \n",
      "0   150119  190115  190222  \n",
      "1   110119  190111  190222  \n",
      "2   100119  190110  190222  \n",
      "3   100119  190110  190329  \n",
      "4   120119  190112  190329  \n"
     ]
    }
   ],
   "source": [
    "# Carregue o arquivo Parquet\n",
    "file_path = \"C:/Users/kauea/OneDrive/Área de Trabalho/ERROR 404/Faculdade/Projeto-est-gio-Mercedes/Case/Case/veiculos.parquet\"\n",
    "Tabela1 = pd.read_parquet(file_path)\n",
    "\n",
    "print(Tabela1.head())"
   ]
  },
  {
   "cell_type": "code",
   "execution_count": 35,
   "id": "84e65af6",
   "metadata": {},
   "outputs": [
    {
     "name": "stdout",
     "output_type": "stream",
     "text": [
      "   COD             PAIS   MERCADO\n",
      "0  575   UNIAOSOVIETICA  Overseas\n",
      "1  576  REPUBLICATCHECA  Overseas\n",
      "2  577          ESPANHA  Overseas\n",
      "3  579   REPUBLICACHECA  Overseas\n",
      "4  580  REPUBL.ESLOVACA  Overseas\n"
     ]
    }
   ],
   "source": [
    "# Carrega o arquivo Parquet com os dados dos países\n",
    "Tabela2 = pd.read_parquet(\"C:/Users/kauea/OneDrive/Área de Trabalho/ERROR 404/Faculdade/Projeto-est-gio-Mercedes/Case/Case/cod_pais.parquet\")\n",
    "print(Tabela2.head())"
   ]
  },
  {
   "cell_type": "code",
   "execution_count": 70,
   "id": "5af58c55",
   "metadata": {},
   "outputs": [
    {
     "name": "stdout",
     "output_type": "stream",
     "text": [
      "  Linha Codigo_Pais          Tipo_Veiculo Subtipo_Veiculo Numero_Registro  \\\n",
      "0     J         BRA  O-500U 1826/59 EURO5    QVV18260809B       201952986   \n",
      "1     J         BRA  O-500U 1826/59 EURO5    QVV18260809B       201952994   \n",
      "2     J         BRA  O-500U 1826/59 EURO5    QVV18260809B       201953001   \n",
      "3     J         BRA  O-500U 1826/59 EURO5    QVV18260809B       201953010   \n",
      "4     J         BRA  O-500U 1826/59 EURO5    QVV18260809B       201953028   \n",
      "\n",
      "  Data_Producao Data_Liberacao_Parcial Data_Liberacao_Completa  \\\n",
      "0    2009-01-19             2019-01-15              2015-01-19   \n",
      "1    2010-01-19             2019-01-11              2011-01-19   \n",
      "2    2010-01-19             2019-01-10              2010-01-19   \n",
      "3    2010-01-19             2019-01-10              2010-01-19   \n",
      "4    2010-01-19             2019-01-12              2012-01-19   \n",
      "\n",
      "  Data_Faturamento    PAIS MERCADO  \n",
      "0       2022-02-19  BRASIL  Brasil  \n",
      "1       2022-02-19  BRASIL  Brasil  \n",
      "2       2022-02-19  BRASIL  Brasil  \n",
      "3       2029-03-19  BRASIL  Brasil  \n",
      "4       2029-03-19  BRASIL  Brasil  \n"
     ]
    }
   ],
   "source": [
    "#Left Join dos dois Parquets\n",
    "df_merged = pd.merge(Tabela1, Tabela2, on=['Codigo_Pais'], how='inner')\n",
    "print(df_merged.head())"
   ]
  },
  {
   "cell_type": "code",
   "execution_count": 67,
   "id": "6367dc94",
   "metadata": {},
   "outputs": [],
   "source": [
    "# Renomear colunas para facilitar integração\n",
    "Tabela1.rename(columns={'CodPais': 'Codigo_Pais', 'Denominação': 'Tipo_Veiculo', \n",
    "                    'varNED': 'Subtipo_Veiculo', 'NP': 'Numero_Registro', \n",
    "                    'DTFLI': 'Data_Producao', 'DTLCO_1a': 'Data_Liberacao_Parcial',\n",
    "                    'DTLCO': 'Data_Liberacao_Completa', 'DTFAT': 'Data_Faturamento'}, inplace=True)\n",
    "Tabela2.rename(columns={'COD': 'Codigo_Pais'}, inplace=True)\n"
   ]
  },
  {
   "cell_type": "code",
   "execution_count": 53,
   "id": "9a245856",
   "metadata": {},
   "outputs": [],
   "source": [
    "#Converte para DateTime os dados em object que precisam ser manipulados como data\n",
    "date_columns = ['Data_Producao', 'Data_Liberacao_Parcial', 'Data_Liberacao_Completa', 'Data_Faturamento']\n",
    "for col in date_columns:\n",
    "    Tabela1[col] = pd.to_datetime(Tabela1[col], format='%d%m%y', errors='coerce')"
   ]
  },
  {
   "cell_type": "code",
   "execution_count": 54,
   "id": "30d5eea8",
   "metadata": {},
   "outputs": [],
   "source": [
    "# Remover duplicatas com base na chave primária (Numero_Registro)\n",
    "Tabela1.drop_duplicates(subset='Numero_Registro', inplace=True)\n",
    "\n",
    "# Preencher valores ausentes ou tratá-los conforme necessário\n",
    "Tabela1.fillna({'Tipo_Veiculo': 'Desconhecido', 'Subtipo_Veiculo': 'Indefinido'}, inplace=True)\n"
   ]
  },
  {
   "cell_type": "code",
   "execution_count": 68,
   "id": "b36461cc",
   "metadata": {},
   "outputs": [
    {
     "name": "stdout",
     "output_type": "stream",
     "text": [
      "<class 'pandas.core.frame.DataFrame'>\n",
      "Int64Index: 17233 entries, 0 to 17232\n",
      "Data columns (total 9 columns):\n",
      " #   Column                   Non-Null Count  Dtype         \n",
      "---  ------                   --------------  -----         \n",
      " 0   Linha                    17233 non-null  object        \n",
      " 1   Codigo_Pais              17233 non-null  object        \n",
      " 2   Tipo_Veiculo             17233 non-null  object        \n",
      " 3   Subtipo_Veiculo          17233 non-null  object        \n",
      " 4   Numero_Registro          17233 non-null  object        \n",
      " 5   Data_Producao            16407 non-null  datetime64[ns]\n",
      " 6   Data_Liberacao_Parcial   16397 non-null  datetime64[ns]\n",
      " 7   Data_Liberacao_Completa  15815 non-null  datetime64[ns]\n",
      " 8   Data_Faturamento         14880 non-null  datetime64[ns]\n",
      "dtypes: datetime64[ns](4), object(5)\n",
      "memory usage: 1.3+ MB\n",
      "None\n",
      "\n",
      "<class 'pandas.core.frame.DataFrame'>\n",
      "RangeIndex: 245 entries, 0 to 244\n",
      "Data columns (total 3 columns):\n",
      " #   Column       Non-Null Count  Dtype \n",
      "---  ------       --------------  ----- \n",
      " 0   Codigo_Pais  245 non-null    object\n",
      " 1   PAIS         245 non-null    object\n",
      " 2   MERCADO      245 non-null    object\n",
      "dtypes: object(3)\n",
      "memory usage: 5.9+ KB\n",
      "None\n"
     ]
    }
   ],
   "source": [
    "#Verificar colunas e tipos\n",
    "print(Tabela1.info())\n",
    "print(\"\")\n",
    "print(Tabela2.info())"
   ]
  },
  {
   "cell_type": "code",
   "execution_count": 45,
   "id": "e7a5898b",
   "metadata": {},
   "outputs": [
    {
     "name": "stdout",
     "output_type": "stream",
     "text": [
      "        Linha Codigo_Pais      Tipo_Veiculo Subtipo_Veiculo Numero_Registro  \\\n",
      "count   17233       17233             17233           17233           17233   \n",
      "unique      2          26                58             394           17233   \n",
      "top         J         BRA  OF-1721/59 EURO5    QVV17210737B       201952986   \n",
      "freq    13719       13948              5178            1811               1   \n",
      "first     NaN         NaN               NaN             NaN             NaN   \n",
      "last      NaN         NaN               NaN             NaN             NaN   \n",
      "\n",
      "              Data_Producao Data_Liberacao_Parcial Data_Liberacao_Completa  \\\n",
      "count                 16407                  16397                   15815   \n",
      "unique                  291                    330                     330   \n",
      "top     2004-10-19 00:00:00    2019-12-05 00:00:00     2027-08-19 00:00:00   \n",
      "freq                     75                    108                     146   \n",
      "first   2001-02-19 00:00:00    2019-01-09 00:00:00     2001-02-19 00:00:00   \n",
      "last    2031-10-19 00:00:00    2020-05-28 00:00:00     2031-10-19 00:00:00   \n",
      "\n",
      "           Data_Faturamento  \n",
      "count                 14880  \n",
      "unique                  314  \n",
      "top     2031-10-19 00:00:00  \n",
      "freq                    257  \n",
      "first   2001-02-19 00:00:00  \n",
      "last    2031-10-19 00:00:00  \n"
     ]
    },
    {
     "name": "stderr",
     "output_type": "stream",
     "text": [
      "C:\\Users\\kauea\\AppData\\Local\\Temp\\ipykernel_14260\\1028886846.py:2: FutureWarning: Treating datetime data as categorical rather than numeric in `.describe` is deprecated and will be removed in a future version of pandas. Specify `datetime_is_numeric=True` to silence this warning and adopt the future behavior now.\n",
      "  print(Tabela1.describe())\n",
      "C:\\Users\\kauea\\AppData\\Local\\Temp\\ipykernel_14260\\1028886846.py:2: FutureWarning: Treating datetime data as categorical rather than numeric in `.describe` is deprecated and will be removed in a future version of pandas. Specify `datetime_is_numeric=True` to silence this warning and adopt the future behavior now.\n",
      "  print(Tabela1.describe())\n",
      "C:\\Users\\kauea\\AppData\\Local\\Temp\\ipykernel_14260\\1028886846.py:2: FutureWarning: Treating datetime data as categorical rather than numeric in `.describe` is deprecated and will be removed in a future version of pandas. Specify `datetime_is_numeric=True` to silence this warning and adopt the future behavior now.\n",
      "  print(Tabela1.describe())\n",
      "C:\\Users\\kauea\\AppData\\Local\\Temp\\ipykernel_14260\\1028886846.py:2: FutureWarning: Treating datetime data as categorical rather than numeric in `.describe` is deprecated and will be removed in a future version of pandas. Specify `datetime_is_numeric=True` to silence this warning and adopt the future behavior now.\n",
      "  print(Tabela1.describe())\n"
     ]
    }
   ],
   "source": [
    "#Verificar estatísticas básicas\n",
    "print(Tabela1.describe())"
   ]
  },
  {
   "cell_type": "code",
   "execution_count": 42,
   "id": "d0697ae0",
   "metadata": {},
   "outputs": [
    {
     "name": "stdout",
     "output_type": "stream",
     "text": [
      "      Linha Codigo_Pais          Tipo_Veiculo Subtipo_Veiculo Numero_Registro  \\\n",
      "0         J         BRA  O-500U 1826/59 EURO5    QVV18260809B       201952986   \n",
      "1         J         BRA  O-500U 1826/59 EURO5    QVV18260809B       201952994   \n",
      "2         J         BRA  O-500U 1826/59 EURO5    QVV18260809B       201953001   \n",
      "3         J         BRA  O-500U 1826/59 EURO5    QVV18260809B       201953010   \n",
      "4         J         BRA  O-500U 1826/59 EURO5    QVV18260809B       201953028   \n",
      "...     ...         ...                   ...             ...             ...   \n",
      "17208     L         BRA  O-500U 1826/59 EURO5    QVV18260942B       202247445   \n",
      "17217     L         771  O-500U 1826/59 EURO5    QVV18260914B       202248280   \n",
      "17222     L         771  O-500U 1826/59 EURO5    QVV18260914B       202248549   \n",
      "17227     L         771  O-500U 1826/59 EURO5    QVV18260914B       202248794   \n",
      "17232     L         771  O-500U 1826/59 EURO5    QVV18260914B       202248930   \n",
      "\n",
      "      Data_Producao Data_Liberacao_Parcial Data_Liberacao_Completa  \\\n",
      "0        2009-01-19             2019-01-15              2015-01-19   \n",
      "1        2010-01-19             2019-01-11              2011-01-19   \n",
      "2        2010-01-19             2019-01-10              2010-01-19   \n",
      "3        2010-01-19             2019-01-10              2010-01-19   \n",
      "4        2010-01-19             2019-01-12              2012-01-19   \n",
      "...             ...                    ...                     ...   \n",
      "17208           NaT                    NaT                     NaT   \n",
      "17217           NaT                    NaT                     NaT   \n",
      "17222           NaT                    NaT                     NaT   \n",
      "17227           NaT                    NaT                     NaT   \n",
      "17232           NaT                    NaT                     NaT   \n",
      "\n",
      "      Data_Faturamento  \n",
      "0           2022-02-19  \n",
      "1           2022-02-19  \n",
      "2           2022-02-19  \n",
      "3           2029-03-19  \n",
      "4           2029-03-19  \n",
      "...                ...  \n",
      "17208              NaT  \n",
      "17217              NaT  \n",
      "17222              NaT  \n",
      "17227              NaT  \n",
      "17232              NaT  \n",
      "\n",
      "[1077 rows x 9 columns]\n"
     ]
    }
   ],
   "source": [
    "#Filtrar apenas veículos de um certo tipo\n",
    "filtered_df = Tabela1[Tabela1[\"Tipo_Veiculo\"] == \"O-500U 1826/59 EURO5\"]\n",
    "print(filtered_df)"
   ]
  },
  {
   "cell_type": "code",
   "execution_count": 41,
   "id": "f1a05065",
   "metadata": {},
   "outputs": [
    {
     "data": {
      "image/png": "[encoded data removed]",
      "text/plain": [
       "<Figure size 640x480 with 1 Axes>"
      ]
     },
     "metadata": {},
     "output_type": "display_data"
    }
   ],
   "source": [
    "#Cria uma tabela genérica\n",
    "Tabela1[\"Data_Liberacao_Parcial\"].value_counts().plot(kind=\"line\")\n",
    "plt.show()"
   ]
  },
  {
   "cell_type": "code",
   "execution_count": 71,
   "id": "acb368b2",
   "metadata": {},
   "outputs": [
    {
     "name": "stdout",
     "output_type": "stream",
     "text": [
      "Codigo_Pais\n",
      "601       42\n",
      "605       16\n",
      "643        9\n",
      "675        2\n",
      "723        4\n",
      "725      101\n",
      "727        3\n",
      "729        4\n",
      "737        1\n",
      "739        1\n",
      "741        2\n",
      "747       35\n",
      "751        9\n",
      "771      655\n",
      "773        8\n",
      "777     1079\n",
      "779      221\n",
      "785       49\n",
      "787       38\n",
      "789      764\n",
      "793      216\n",
      "843        1\n",
      "869        1\n",
      "882        3\n",
      "901       21\n",
      "BRA    13948\n",
      "Name: Numero_Registro, dtype: int64\n"
     ]
    }
   ],
   "source": [
    "# Agrupar e contar veículos por país\n",
    "veiculos_por_pais = df_merged.groupby('Codigo_Pais')['Numero_Registro'].count()\n",
    "print(veiculos_por_pais)\n"
   ]
  },
  {
   "cell_type": "code",
   "execution_count": null,
   "id": "176cb59a",
   "metadata": {},
   "outputs": [
    {
     "name": "stdout",
     "output_type": "stream",
     "text": [
      "Arquivo Excel salvo com sucesso!\n"
     ]
    }
   ],
   "source": [
    "# Salvar como Excel para trabalhar no PowerBI\n",
    "Tabela1.to_excel('TabelaVeiculos.xlsx', index=False, engine='openpyxl')\n",
    "Tabela2.to_excel('TabelaPaises.xlsx', index=False, engine='openpyxl')\n",
    "\n",
    "\n",
    "print(\"Arquivo Excel salvo com sucesso!\")"
   ]
  }
 ],
 "metadata": {
  "kernelspec": {
   "display_name": "base",
   "language": "python",
   "name": "python3"
  },
  "language_info": {
   "codemirror_mode": {
    "name": "ipython",
    "version": 3
   },
   "file_extension": ".py",
   "mimetype": "text/x-python",
   "name": "python",
   "nbconvert_exporter": "python",
   "pygments_lexer": "ipython3",
   "version": "3.11.4"
  }
 },
 "nbformat": 4,
 "nbformat_minor": 5
}
